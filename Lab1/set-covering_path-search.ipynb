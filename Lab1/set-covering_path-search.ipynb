{
 "cells": [
  {
   "cell_type": "markdown",
   "metadata": {},
   "source": [
    "Copyright **`(c)`** 2023 Giovanni Squillero `<giovanni.squillero@polito.it>`  \n",
    "[`https://github.com/squillero/computational-intelligence`](https://github.com/squillero/computational-intelligence)  \n",
    "Free for personal or classroom use; see [`LICENSE.md`](https://github.com/squillero/computational-intelligence/blob/master/LICENSE.md) for details.  "
   ]
  },
  {
   "cell_type": "code",
   "execution_count": 19,
   "metadata": {},
   "outputs": [],
   "source": [
    "from random import random\n",
    "from math import ceil\n",
    "from functools import reduce\n",
    "from collections import namedtuple, deque\n",
    "from queue import PriorityQueue\n",
    "\n",
    "import numpy as np\n",
    "import copy\n",
    "from tqdm.auto import tqdm"
   ]
  },
  {
   "cell_type": "code",
   "execution_count": 20,
   "metadata": {},
   "outputs": [],
   "source": [
    "State = namedtuple('State', ['taken', 'not_taken'])\n",
    "\n",
    "\n",
    "def covered(state):\n",
    "    return reduce(\n",
    "        np.logical_or,\n",
    "        [SETS[i] for i in state.taken],\n",
    "        np.array([False for _ in range(PROBLEM_SIZE)]),\n",
    "    )\n",
    "\n",
    "\n",
    "def goal_check(state):\n",
    "    return np.all(covered(state))"
   ]
  },
  {
   "cell_type": "code",
   "execution_count": 21,
   "metadata": {},
   "outputs": [],
   "source": [
    "PROBLEM_SIZE = 100\n",
    "NUM_SETS = 200\n",
    "SETS = tuple(np.array([random() < 0.3 for _ in range(PROBLEM_SIZE)]) for _ in range(NUM_SETS))\n",
    "assert goal_check(State(set(range(NUM_SETS)), set())), \"Probelm not solvable\""
   ]
  },
  {
   "cell_type": "markdown",
   "metadata": {},
   "source": [
    "## Depth First"
   ]
  },
  {
   "cell_type": "code",
   "execution_count": 207,
   "metadata": {},
   "outputs": [
    {
     "name": "stderr",
     "output_type": "stream",
     "text": [
      "22it [00:00, 7821.21it/s]"
     ]
    },
    {
     "name": "stdout",
     "output_type": "stream",
     "text": [
      "Solved in 22 steps (22 tiles)\n"
     ]
    },
    {
     "name": "stderr",
     "output_type": "stream",
     "text": [
      "\n"
     ]
    }
   ],
   "source": [
    "frontier = deque()\n",
    "state = State(set(), set(range(NUM_SETS)))\n",
    "frontier.append(state)\n",
    "\n",
    "counter = 0\n",
    "current_state = frontier.pop()\n",
    "with tqdm(total=None) as pbar:\n",
    "    while not goal_check(current_state):\n",
    "        counter += 1\n",
    "        for action in current_state[1]:\n",
    "            new_state = State(\n",
    "                current_state.taken ^ {action},\n",
    "                current_state.not_taken ^ {action},\n",
    "            )\n",
    "            frontier.append(new_state)\n",
    "        current_state = frontier.pop()\n",
    "        pbar.update(1)\n",
    "\n",
    "print(f\"Solved in {counter:,} steps ({len(current_state.taken)} tiles)\")"
   ]
  },
  {
   "cell_type": "markdown",
   "metadata": {},
   "source": [
    "## Breadth First"
   ]
  },
  {
   "cell_type": "code",
   "execution_count": 10,
   "metadata": {},
   "outputs": [
    {
     "name": "stderr",
     "output_type": "stream",
     "text": [
      "139939it [01:01, 2284.63it/s]\n"
     ]
    },
    {
     "ename": "KeyboardInterrupt",
     "evalue": "",
     "output_type": "error",
     "traceback": [
      "\u001b[0;31m---------------------------------------------------------------------------\u001b[0m",
      "\u001b[0;31mKeyboardInterrupt\u001b[0m                         Traceback (most recent call last)",
      "\u001b[1;32m/Users/paolomuccilli/Desktop/CI/set-covering_path-search.ipynb Cell 8\u001b[0m line \u001b[0;36m1\n\u001b[1;32m      <a href='vscode-notebook-cell:/Users/paolomuccilli/Desktop/CI/set-covering_path-search.ipynb#X10sZmlsZQ%3D%3D?line=8'>9</a>\u001b[0m counter \u001b[39m+\u001b[39m\u001b[39m=\u001b[39m \u001b[39m1\u001b[39m\n\u001b[1;32m     <a href='vscode-notebook-cell:/Users/paolomuccilli/Desktop/CI/set-covering_path-search.ipynb#X10sZmlsZQ%3D%3D?line=9'>10</a>\u001b[0m \u001b[39mfor\u001b[39;00m action \u001b[39min\u001b[39;00m current_state[\u001b[39m1\u001b[39m]:\n\u001b[0;32m---> <a href='vscode-notebook-cell:/Users/paolomuccilli/Desktop/CI/set-covering_path-search.ipynb#X10sZmlsZQ%3D%3D?line=10'>11</a>\u001b[0m     new_state \u001b[39m=\u001b[39m State(\n\u001b[1;32m     <a href='vscode-notebook-cell:/Users/paolomuccilli/Desktop/CI/set-covering_path-search.ipynb#X10sZmlsZQ%3D%3D?line=11'>12</a>\u001b[0m         current_state\u001b[39m.\u001b[39;49mtaken \u001b[39m^\u001b[39;49m {action},\n\u001b[1;32m     <a href='vscode-notebook-cell:/Users/paolomuccilli/Desktop/CI/set-covering_path-search.ipynb#X10sZmlsZQ%3D%3D?line=12'>13</a>\u001b[0m         current_state\u001b[39m.\u001b[39;49mnot_taken \u001b[39m^\u001b[39;49m {action},\n\u001b[1;32m     <a href='vscode-notebook-cell:/Users/paolomuccilli/Desktop/CI/set-covering_path-search.ipynb#X10sZmlsZQ%3D%3D?line=13'>14</a>\u001b[0m     )\n\u001b[1;32m     <a href='vscode-notebook-cell:/Users/paolomuccilli/Desktop/CI/set-covering_path-search.ipynb#X10sZmlsZQ%3D%3D?line=14'>15</a>\u001b[0m     frontier\u001b[39m.\u001b[39mappend(new_state)\n\u001b[1;32m     <a href='vscode-notebook-cell:/Users/paolomuccilli/Desktop/CI/set-covering_path-search.ipynb#X10sZmlsZQ%3D%3D?line=15'>16</a>\u001b[0m current_state \u001b[39m=\u001b[39m frontier\u001b[39m.\u001b[39mpopleft()\n",
      "File \u001b[0;32m<string>:1\u001b[0m, in \u001b[0;36m<lambda>\u001b[0;34m(_cls, taken, not_taken)\u001b[0m\n",
      "\u001b[0;31mKeyboardInterrupt\u001b[0m: "
     ]
    }
   ],
   "source": [
    "frontier = deque()\n",
    "state = State(set(), set(range(NUM_SETS)))\n",
    "frontier.append(state)\n",
    "\n",
    "counter = 0\n",
    "current_state = frontier.popleft()\n",
    "with tqdm(total=None) as pbar:\n",
    "    while not goal_check(current_state):\n",
    "        counter += 1\n",
    "        for action in current_state[1]:\n",
    "            new_state = State(\n",
    "                current_state.taken ^ {action},\n",
    "                current_state.not_taken ^ {action},\n",
    "            )\n",
    "            frontier.append(new_state)\n",
    "        current_state = frontier.popleft()\n",
    "        pbar.update(1)\n",
    "\n",
    "print(f\"Solved in {counter:,} steps ({len(current_state.taken)} tiles)\")"
   ]
  },
  {
   "cell_type": "markdown",
   "metadata": {},
   "source": [
    "## Greedy Best First"
   ]
  },
  {
   "cell_type": "code",
   "execution_count": 5,
   "metadata": {},
   "outputs": [],
   "source": [
    "def f(state):\n",
    "    missing_size = PROBLEM_SIZE - sum(covered(state))\n",
    "    return missing_size"
   ]
  },
  {
   "cell_type": "code",
   "execution_count": 6,
   "metadata": {},
   "outputs": [
    {
     "name": "stderr",
     "output_type": "stream",
     "text": [
      "5it [00:00, 499.17it/s]"
     ]
    },
    {
     "name": "stdout",
     "output_type": "stream",
     "text": [
      "Solved in 5 steps (5 tiles)\n"
     ]
    },
    {
     "name": "stderr",
     "output_type": "stream",
     "text": [
      "\n"
     ]
    }
   ],
   "source": [
    "frontier = PriorityQueue()\n",
    "state = State(set(), set(range(NUM_SETS)))\n",
    "frontier.put((f(state), state))\n",
    "\n",
    "counter = 0\n",
    "_, current_state = frontier.get()\n",
    "with tqdm(total=None) as pbar:\n",
    "    while not goal_check(current_state):\n",
    "        counter += 1\n",
    "        for action in current_state[1]:\n",
    "            new_state = State(\n",
    "                current_state.taken ^ {action},\n",
    "                current_state.not_taken ^ {action},\n",
    "            )\n",
    "            frontier.put((f(new_state), new_state))\n",
    "        _, current_state = frontier.get()\n",
    "        pbar.update(1)\n",
    "\n",
    "print(f\"Solved in {counter:,} steps ({len(current_state.taken)} tiles)\")"
   ]
  },
  {
   "cell_type": "markdown",
   "metadata": {},
   "source": [
    "## A*"
   ]
  },
  {
   "cell_type": "code",
   "execution_count": 22,
   "metadata": {},
   "outputs": [],
   "source": [
    "# HEURISTICS MADE BY THE TEACHER IN CLASS\n",
    "\n",
    "\n",
    "def h(state):\n",
    "    largest_set_size = max(sum(s) for s in SETS) # I take the set with the biggest number of true\n",
    "    missing_size = PROBLEM_SIZE - sum(covered(state)) # number of missing tiles\n",
    "    optimistic_estimate = ceil(missing_size / largest_set_size) # minimum number of missing tiles\n",
    "    return optimistic_estimate\n",
    "\n",
    "\n",
    "def h2(state):\n",
    "    already_covered = covered(state) #already covered elements\n",
    "    if np.all(already_covered):\n",
    "        return 0\n",
    "    largest_set_size = max(sum(np.logical_and(s, np.logical_not(already_covered))) for s in SETS) # I take the tile with the max number of missing elements\n",
    "    missing_size = PROBLEM_SIZE - sum(already_covered) # elements i still have to cover\n",
    "    optimistic_estimate = ceil(missing_size / largest_set_size) # minimum number of missing tiles\n",
    "    return optimistic_estimate\n",
    "\n",
    "\n",
    "def h3(state):\n",
    "    already_covered = covered(state) #already covered elements\n",
    "    if np.all(already_covered):\n",
    "        return 0\n",
    "    missing_size = PROBLEM_SIZE - sum(already_covered) # number of elements not covered\n",
    "    candidates = sorted((sum(np.logical_and(s, np.logical_not(already_covered))) for s in SETS), reverse=True) # i sort the remaining tiles from the biggest remaining n of elements occupied to the last\n",
    "    taken = 0\n",
    "    while sum(candidates[:taken]) < missing_size: # scorro il vettore dei tile per stimare al meglio quante ne mancano\n",
    "        taken += 1\n",
    "    return taken\n",
    "\n",
    "\n",
    "#MY HEURISTICS\n",
    "\n",
    "#better algorithm for engineering purposes, significantly faster solution than h10, simetimes gets 1 more tile\n",
    "def h8(state):\n",
    "    already_covered = covered(state)  \n",
    "    if np.all(already_covered):\n",
    "        return 0\n",
    "\n",
    "    missing_size = PROBLEM_SIZE - np.sum(already_covered)  # number of elements not covered\n",
    "\n",
    "    candidates = sorted(state.not_taken, key=lambda x: np.sum(SETS[x] & ~already_covered), reverse=True)        #sort the not taken tiles putting first the ones who will cover more uncovered elements\n",
    "#   candidates = sorted(state.not_taken , key = lambda x: sum(np.logical_and(SETS[x], np.logical_not(already_covered))), reverse=True)  ///  similar code to the one developed in class, less efficient\n",
    "\n",
    "    taken = 0\n",
    "    while missing_size > 0:\n",
    "\n",
    "        selected_candidate = candidates[taken]\n",
    "\n",
    "        already_covered |= SETS[selected_candidate]                                                       #update the already covered elements so i avoid overlapping in the estimation (biggest difference with teacher's code)\n",
    "        missing_size = PROBLEM_SIZE - np.sum(already_covered)\n",
    "        taken += 1\n",
    "\n",
    "    return taken\n",
    "\n",
    "\n",
    "#better algorithm for a mathematical purposes, i get higher quality results but i don't think the tradeoff with performances is justified\n",
    "#better for small dimension problem, scales really bad (sort is n*log(n) inside loop becomes n^2*log(n))\n",
    "def h10(state):\n",
    "    already_covered = covered(state)  \n",
    "    if np.all(already_covered):\n",
    "        return 0\n",
    "\n",
    "    missing_size = PROBLEM_SIZE - np.sum(already_covered)  \n",
    "\n",
    "    candidates = sorted(state.not_taken, key=lambda x: np.sum(SETS[x] & ~already_covered), reverse=True)\n",
    "\n",
    "    taken = 0\n",
    "    while missing_size > 0:\n",
    "\n",
    "\n",
    "        selected_candidate = candidates[0]                                                              # take the first element every time because i sort at every cycle\n",
    "        already_covered |= SETS[selected_candidate]\n",
    "        missing_size = PROBLEM_SIZE - np.sum(already_covered)\n",
    "        taken += 1\n",
    "\n",
    "        candidates = sorted(state.not_taken, key=lambda x: np.sum(SETS[x] & ~already_covered), reverse=True) #the sort is really expensive, generally gives me a better result, but requires double the time of the previous algorithm\n",
    "        #for some reason this code gives me more iteration then the previous one, check the code to find mistake (?)\n",
    "\n",
    "\n",
    "    return taken\n",
    " \n",
    " #The algorithms were developed with the sweet company of Paul-Raphael Spazzola and Alexandre Senouci\n",
    "\n",
    "def f(state):\n",
    "    return len(state.taken) + h8(state)\n",
    "\n"
   ]
  },
  {
   "cell_type": "code",
   "execution_count": 23,
   "metadata": {},
   "outputs": [
    {
     "name": "stderr",
     "output_type": "stream",
     "text": [
      "10it [00:02,  4.82it/s]"
     ]
    },
    {
     "name": "stdout",
     "output_type": "stream",
     "text": [
      "Solved in 10 steps (5 tiles)\n"
     ]
    },
    {
     "name": "stderr",
     "output_type": "stream",
     "text": [
      "\n"
     ]
    }
   ],
   "source": [
    "frontier = PriorityQueue()\n",
    "state = State(set(), set(range(NUM_SETS)))\n",
    "frontier.put((f(state), state))\n",
    "\n",
    "counter = 0\n",
    "_, current_state = frontier.get()\n",
    "with tqdm(total=None) as pbar:\n",
    "    while not goal_check(current_state):\n",
    "        counter += 1\n",
    "        for action in current_state[1]:\n",
    "            new_state = State(\n",
    "                current_state.taken ^ {action},\n",
    "                current_state.not_taken ^ {action},\n",
    "            )\n",
    "            frontier.put((f(new_state), new_state))\n",
    "            #print(f(new_state), new_state)\n",
    "\n",
    "        _, current_state = frontier.get()\n",
    "        pbar.update(1)\n",
    "\n",
    "print(f\"Solved in {counter:,} steps ({len(current_state.taken)} tiles)\")"
   ]
  },
  {
   "cell_type": "code",
   "execution_count": null,
   "metadata": {},
   "outputs": [],
   "source": []
  }
 ],
 "metadata": {
  "kernelspec": {
   "display_name": "Python 3 (ipykernel)",
   "language": "python",
   "name": "python3"
  },
  "language_info": {
   "codemirror_mode": {
    "name": "ipython",
    "version": 3
   },
   "file_extension": ".py",
   "mimetype": "text/x-python",
   "name": "python",
   "nbconvert_exporter": "python",
   "pygments_lexer": "ipython3",
   "version": "3.12.0"
  }
 },
 "nbformat": 4,
 "nbformat_minor": 4
}
