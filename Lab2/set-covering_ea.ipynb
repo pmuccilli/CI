{
 "cells": [
  {
   "cell_type": "markdown",
   "metadata": {},
   "source": [
    "Copyright **`(c)`** 2023 Giovanni Squillero `<giovanni.squillero@polito.it>`  \n",
    "[`https://github.com/squillero/computational-intelligence`](https://github.com/squillero/computational-intelligence)  \n",
    "Free for personal or classroom use; see [`LICENSE.md`](https://github.com/squillero/computational-intelligence/blob/master/LICENSE.md) for details.  "
   ]
  },
  {
   "cell_type": "code",
   "execution_count": 671,
   "metadata": {},
   "outputs": [],
   "source": [
    "from random import random, choice, randint\n",
    "from functools import reduce\n",
    "from collections import namedtuple\n",
    "from dataclasses import dataclass\n",
    "from copy import copy, deepcopy\n",
    "\n",
    "\n",
    "from pprint import pprint\n",
    "\n",
    "import numpy as np"
   ]
  },
  {
   "cell_type": "code",
   "execution_count": 672,
   "metadata": {},
   "outputs": [],
   "source": [
    "PROBLEM_SIZE = 101\n",
    "\n"
   ]
  },
  {
   "cell_type": "code",
   "execution_count": 673,
   "metadata": {},
   "outputs": [],
   "source": [
    "POPULATION_SIZE = 30\n",
    "OFFSPRING_SIZE = 20\n",
    "TOURNAMENT_SIZE = 2\n",
    "MUTATION_PROBABILITY = .15\n",
    "current_state = [1,2]\n",
    "NUM_ROWS = len(current_state)\n"
   ]
  },
  {
   "cell_type": "code",
   "execution_count": 674,
   "metadata": {},
   "outputs": [],
   "source": [
    "def fitness1(state):\n",
    "    ###todolater\n",
    "    nim_sum = 0\n",
    "    for i in range(NUM_ROWS):\n",
    "        nim_sum ^= state[i]\n",
    "    return -nim_sum\n",
    "\n",
    "def fitness2(state):\n",
    "    cost = sum(state)\n",
    "    valid = np.sum(\n",
    "        reduce(\n",
    "            np.logical_or,\n",
    "            [SETS[i] for i, t in enumerate(state) if t],\n",
    "            np.array([False for _ in range(PROBLEM_SIZE)]),\n",
    "        )\n",
    "    )\n",
    "    return valid, -cost\n",
    "\n",
    "fitness = fitness1"
   ]
  },
  {
   "cell_type": "code",
   "execution_count": null,
   "metadata": {},
   "outputs": [],
   "source": []
  },
  {
   "cell_type": "code",
   "execution_count": 675,
   "metadata": {},
   "outputs": [],
   "source": [
    "@dataclass\n",
    "class Individual:\n",
    "    fitness: int\n",
    "    genotype: list[int]\n",
    "\n",
    "def select_parent(pop):\n",
    "    pool = [choice(pop) for _ in range(TOURNAMENT_SIZE)]\n",
    "    if pool[0].genotype[1]>= current_state[pool[0].genotype[0] ] and pool[1].genotype[1]>= current_state[pool[1].genotype[0]]:\n",
    "        return Individual(fitness=None, genotype=[randint(0,NUM_ROWS-1), 0])\n",
    "    elif pool[0].genotype[1]>= current_state[pool[0].genotype[0]]:\n",
    "        return pool[1]\n",
    "    elif pool[1].genotype[1]>= current_state[pool[1].genotype[0]]:\n",
    "        return pool[0]\n",
    "\n",
    "    champion = max(pool, key=lambda i: i.fitness)\n",
    "    return champion\n",
    "\n",
    "def mutate(ind: Individual) -> Individual:\n",
    "    offspring = deepcopy(ind)\n",
    "    offspring.genotype[1]+=1\n",
    "    offspring.fitness = None\n",
    "    return offspring\n",
    "\n",
    "def one_cut_xover(ind1: Individual, ind2: Individual) -> Individual:\n",
    "    cut_point = randint(0, NUM_SETS-1)\n",
    "    offspring = Individual(fitness=None,\n",
    "                           genotype=ind1.genotype[:cut_point] + ind2.genotype[cut_point:])\n",
    "    assert len(offspring.genotype) == NUM_SETS\n",
    "    return offspring"
   ]
  },
  {
   "cell_type": "code",
   "execution_count": 676,
   "metadata": {},
   "outputs": [],
   "source": [
    "population = [\n",
    "    Individual(\n",
    "        genotype= [_, 1],\n",
    "        #genotype = np.concatenate([np.zeros(_, dtype=int), [1], np.zeros(NUM_ROWS-_-1, dtype=int)]),\n",
    "        fitness=None,\n",
    "    )\n",
    "    for _ in range(NUM_ROWS)\n",
    "]\n",
    "\n",
    "for _, i in enumerate(population):\n",
    "    new_state= copy(current_state)\n",
    "    new_state[i.genotype[0]]-= i.genotype[1]\n",
    "    i.fitness = fitness(new_state)\n",
    "\n"
   ]
  },
  {
   "cell_type": "code",
   "execution_count": 677,
   "metadata": {},
   "outputs": [
    {
     "name": "stdout",
     "output_type": "stream",
     "text": [
      "[Individual(fitness=-2, genotype=[0, 1]), Individual(fitness=0, genotype=[1, 1])]\n"
     ]
    }
   ],
   "source": [
    "print(population)\n"
   ]
  },
  {
   "cell_type": "code",
   "execution_count": 678,
   "metadata": {},
   "outputs": [],
   "source": [
    "def soluzione(population):\n",
    "    for generation in range(1000):\n",
    "        if(len(current_state)==2 and (current_state[0]==1 or current_state[1]==1)):\n",
    "            if(current_state[0]==1):\n",
    "                return Individual(fitness=None, genotype=[1,current_state[1]])\n",
    "            else:\n",
    "                return Individual(fitness=None, genotype=[0,current_state[0]])\n",
    "        offspring = list()\n",
    "        for counter in range(OFFSPRING_SIZE):\n",
    "            if random() < 1:  # self-adapt mutation probability\n",
    "                # mutation  # add more clever mutations\n",
    "                p = select_parent(population)\n",
    "                o = mutate(p)\n",
    "                #print(\"parent is {}, offspring is {}\".format(p , o))\n",
    "\n",
    "            offspring.append(o)\n",
    "\n",
    "        for i in offspring:\n",
    "            new_state= copy(current_state)\n",
    "            new_state[i.genotype[0]]-= i.genotype[1]\n",
    "            i.fitness = fitness(new_state) \n",
    "            #print(new_state, i) \n",
    "            \n",
    "        population.extend(offspring)\n",
    "        population.sort(key=lambda i: i.fitness, reverse=True)\n",
    "        population = population[:POPULATION_SIZE]\n",
    "    return population[0]\n",
    "    \n",
    "    \n"
   ]
  },
  {
   "cell_type": "code",
   "execution_count": 679,
   "metadata": {},
   "outputs": [
    {
     "name": "stdout",
     "output_type": "stream",
     "text": [
      "Individual(fitness=None, genotype=[1, 2])\n"
     ]
    }
   ],
   "source": [
    "print(soluzione(population))"
   ]
  },
  {
   "cell_type": "code",
   "execution_count": null,
   "metadata": {},
   "outputs": [],
   "source": []
  }
 ],
 "metadata": {
  "kernelspec": {
   "display_name": "Python 3 (ipykernel)",
   "language": "python",
   "name": "python3"
  },
  "language_info": {
   "codemirror_mode": {
    "name": "ipython",
    "version": 3
   },
   "file_extension": ".py",
   "mimetype": "text/x-python",
   "name": "python",
   "nbconvert_exporter": "python",
   "pygments_lexer": "ipython3",
   "version": "3.12.0"
  }
 },
 "nbformat": 4,
 "nbformat_minor": 4
}
